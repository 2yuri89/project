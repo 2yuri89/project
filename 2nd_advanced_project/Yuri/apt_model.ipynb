{
 "cells": [
  {
   "cell_type": "code",
   "execution_count": 1,
   "metadata": {},
   "outputs": [],
   "source": [
    "import pandas as pd\n",
    "import numpy as np\n",
    "import matplotlib.pyplot as plt\n",
    "import seaborn as sns\n",
    "\n",
    "# 맷플롯립 한글 사용 가능\n",
    "import matplotlib.pyplot as plt\n",
    "plt.rcParams['font.family'] ='Malgun Gothic'\n",
    "plt.rcParams['axes.unicode_minus'] =False\n",
    "\n",
    "# 모델링\n",
    "from sklearn.model_selection import train_test_split\n",
    "from sklearn.preprocessing import StandardScaler\n",
    "from sklearn.preprocessing import MinMaxScaler\n",
    "from sklearn.linear_model import LinearRegression\n",
    "from sklearn.ensemble import RandomForestRegressor\n",
    "from sklearn.neighbors import KNeighborsRegressor\n",
    "from sklearn.linear_model import Ridge, Lasso, LogisticRegression\n",
    "from sklearn.tree import DecisionTreeRegressor\n",
    "from sklearn.ensemble import GradientBoostingRegressor, RandomForestRegressor\n",
    "from sklearn.svm import SVR\n",
    "import xgboost as xgb\n",
    "from sklearn.metrics import mean_squared_error, r2_score\n"
   ]
  },
  {
   "cell_type": "code",
   "execution_count": 2,
   "metadata": {},
   "outputs": [],
   "source": [
    "apt_df = pd.read_csv('Data_Preprocessing/apt_all_numeric_information.csv')"
   ]
  },
  {
   "cell_type": "code",
   "execution_count": 3,
   "metadata": {},
   "outputs": [
    {
     "data": {
      "text/plain": [
       "Index(['NO', 'latitude', 'longitude', 'brand_label_encoded',\n",
       "       'exclusive_area_m2', 'apt_age', 'floor', 'closest_station_dist_km',\n",
       "       'station_score', 'closest_bus_stop_dist_km', 'bus_stop_score',\n",
       "       'closest_school_dist_km', 'school_score', 'closest_hospital_dist_km',\n",
       "       'hospital_score', 'closest_park_dist_km', 'park_score',\n",
       "       'ldong_prev_1_month', 'ldong_prev_3_months', 'ldong_prev_6_months',\n",
       "       'K_progressive_president', 'A_progressive_president',\n",
       "       'A_progressive_senate', 'A_progressive_house', 'USD_exchange_rate',\n",
       "       'CNY_exchange_rate', 'JPY_exchange_rate', '한국은행_기준금리', '정부대출금금리',\n",
       "       '무역금융지원_프로그램대출금리', '영세자영업자지원_프로그램대출금리', '신성장·일자리지원_프로그램대출금리',\n",
       "       '설비투자지원_프로그램대출금리', '지방중소기업지원_프로그램대출금리', '자금조정_대출금리', '자금조정_예금금리',\n",
       "       'adjusted_income', '월_평균_소득_금액', '식료품_지출_총금액_퍼센트', '의류_신발_지출_총금액_퍼센트',\n",
       "       '생활용품_지출_총금액_퍼센트', '의료비_지출_총금액_퍼센트', '교통_지출_총금액_퍼센트', '교육_지출_총금액_퍼센트',\n",
       "       '유흥_지출_총금액_퍼센트', '여가_문화_지출_총금액_퍼센트', '기타_지출_총금액_퍼센트', '음식_지출_총금액_퍼센트',\n",
       "       'Q_1', 'Q_2', 'Q_3', 'Q_4', 'Season_Spring', 'Season_Summer',\n",
       "       'Season_Fall', 'Season_Winter', 'adjusted_price'],\n",
       "      dtype='object')"
      ]
     },
     "execution_count": 3,
     "metadata": {},
     "output_type": "execute_result"
    }
   ],
   "source": [
    "apt_df.columns"
   ]
  },
  {
   "cell_type": "code",
   "execution_count": 4,
   "metadata": {},
   "outputs": [
    {
     "name": "stdout",
     "output_type": "stream",
     "text": [
      "<class 'pandas.core.frame.DataFrame'>\n",
      "RangeIndex: 251096 entries, 0 to 251095\n",
      "Data columns (total 57 columns):\n",
      " #   Column                    Non-Null Count   Dtype  \n",
      "---  ------                    --------------   -----  \n",
      " 0   NO                        251096 non-null  object \n",
      " 1   latitude                  251096 non-null  float64\n",
      " 2   longitude                 251096 non-null  float64\n",
      " 3   brand_label_encoded       251096 non-null  float64\n",
      " 4   exclusive_area_m2         251096 non-null  float64\n",
      " 5   apt_age                   251096 non-null  float64\n",
      " 6   floor                     251096 non-null  float64\n",
      " 7   closest_station_dist_km   251096 non-null  float64\n",
      " 8   station_score             251096 non-null  float64\n",
      " 9   closest_bus_stop_dist_km  251096 non-null  float64\n",
      " 10  bus_stop_score            251096 non-null  float64\n",
      " 11  closest_school_dist_km    251096 non-null  float64\n",
      " 12  school_score              251096 non-null  float64\n",
      " 13  closest_hospital_dist_km  251096 non-null  float64\n",
      " 14  hospital_score            251096 non-null  float64\n",
      " 15  closest_park_dist_km      251096 non-null  float64\n",
      " 16  park_score                251096 non-null  float64\n",
      " 17  ldong_prev_1_month        251096 non-null  float64\n",
      " 18  ldong_prev_3_months       251096 non-null  float64\n",
      " 19  ldong_prev_6_months       251096 non-null  float64\n",
      " 20  K_progressive_president   251096 non-null  float64\n",
      " 21  A_progressive_president   251096 non-null  float64\n",
      " 22  A_progressive_senate      251096 non-null  float64\n",
      " 23  A_progressive_house       251096 non-null  float64\n",
      " 24  USD_exchange_rate         251096 non-null  float64\n",
      " 25  CNY_exchange_rate         251096 non-null  float64\n",
      " 26  JPY_exchange_rate         251096 non-null  float64\n",
      " 27  한국은행_기준금리                 251096 non-null  float64\n",
      " 28  정부대출금금리                   251096 non-null  float64\n",
      " 29  무역금융지원_프로그램대출금리           251096 non-null  float64\n",
      " 30  영세자영업자지원_프로그램대출금리         251096 non-null  float64\n",
      " 31  신성장·일자리지원_프로그램대출금리        251096 non-null  float64\n",
      " 32  설비투자지원_프로그램대출금리           251096 non-null  float64\n",
      " 33  지방중소기업지원_프로그램대출금리         251096 non-null  float64\n",
      " 34  자금조정_대출금리                 251096 non-null  float64\n",
      " 35  자금조정_예금금리                 251096 non-null  float64\n",
      " 36  adjusted_income           251096 non-null  float64\n",
      " 37  월_평균_소득_금액                251096 non-null  float64\n",
      " 38  식료품_지출_총금액_퍼센트            251096 non-null  float64\n",
      " 39  의류_신발_지출_총금액_퍼센트          251096 non-null  float64\n",
      " 40  생활용품_지출_총금액_퍼센트           251096 non-null  float64\n",
      " 41  의료비_지출_총금액_퍼센트            251096 non-null  float64\n",
      " 42  교통_지출_총금액_퍼센트             251096 non-null  float64\n",
      " 43  교육_지출_총금액_퍼센트             251096 non-null  float64\n",
      " 44  유흥_지출_총금액_퍼센트             251096 non-null  float64\n",
      " 45  여가_문화_지출_총금액_퍼센트          251096 non-null  float64\n",
      " 46  기타_지출_총금액_퍼센트             251096 non-null  float64\n",
      " 47  음식_지출_총금액_퍼센트             251096 non-null  float64\n",
      " 48  Q_1                       251096 non-null  bool   \n",
      " 49  Q_2                       251096 non-null  bool   \n",
      " 50  Q_3                       251096 non-null  bool   \n",
      " 51  Q_4                       251096 non-null  bool   \n",
      " 52  Season_Spring             251096 non-null  bool   \n",
      " 53  Season_Summer             251096 non-null  bool   \n",
      " 54  Season_Fall               251096 non-null  bool   \n",
      " 55  Season_Winter             251096 non-null  bool   \n",
      " 56  adjusted_price            251096 non-null  float64\n",
      "dtypes: bool(8), float64(48), object(1)\n",
      "memory usage: 95.8+ MB\n"
     ]
    }
   ],
   "source": [
    "apt_df.info()"
   ]
  },
  {
   "cell_type": "markdown",
   "metadata": {},
   "source": [
    "### 1. 연도별 데이터 샘플링 및 전처리"
   ]
  },
  {
   "cell_type": "markdown",
   "metadata": {},
   "source": [
    "### 2. 데이터 분리"
   ]
  },
  {
   "cell_type": "code",
   "execution_count": 33,
   "metadata": {},
   "outputs": [
    {
     "name": "stdout",
     "output_type": "stream",
     "text": [
      "Train shape: (12000, 21), Test shape: (3000, 21)\n"
     ]
    }
   ],
   "source": [
    "# 1. 타겟 변수 및 피처 정의\n",
    "X = sampled_df.drop(columns=['NO', 'adjusted_price', 'year'])  # NO, 타겟, year 제외\n",
    "y = sampled_df['adjusted_price']  # 타겟 변수\n",
    "\n",
    "# 2. 학습 데이터와 테스트 데이터 분리\n",
    "X_train, X_test, y_train, y_test = train_test_split(X, y, test_size=0.2, random_state=42)\n",
    "print(f\"Train shape: {X_train.shape}, Test shape: {X_test.shape}\")\n"
   ]
  },
  {
   "cell_type": "markdown",
   "metadata": {},
   "source": [
    "### 3. 선형 회귀 모델링"
   ]
  },
  {
   "cell_type": "code",
   "execution_count": 38,
   "metadata": {},
   "outputs": [
    {
     "name": "stdout",
     "output_type": "stream",
     "text": [
      "Mean Squared Error: 2784471325.20\n",
      "R2 Score: 0.58\n",
      "Linear Regression RMSE: 52768.09\n"
     ]
    }
   ],
   "source": [
    "# 1. 모델 초기화 및 학습\n",
    "model = LinearRegression()\n",
    "model.fit(X_train, y_train)\n",
    "\n",
    "# 2. 예측\n",
    "y_pred = model.predict(X_test)\n",
    "\n",
    "# 3. 성능 평가\n",
    "mse = mean_squared_error(y_test, y_pred)\n",
    "r2 = r2_score(y_test, y_pred)\n",
    "rmse = np.sqrt(mse)\n",
    "\n",
    "print(f\"Mean Squared Error: {mse:.2f}\")\n",
    "print(f\"R2 Score: {r2:.2f}\")\n",
    "print(f\"Linear Regression RMSE: {rmse:.2f}\")"
   ]
  },
  {
   "cell_type": "markdown",
   "metadata": {},
   "source": [
    "### 4. 회귀 계수 확인"
   ]
  },
  {
   "cell_type": "code",
   "execution_count": 35,
   "metadata": {},
   "outputs": [
    {
     "name": "stdout",
     "output_type": "stream",
     "text": [
      "                     Feature    Coefficient\n",
      "12                 longitude  103038.620268\n",
      "2       closest_park_dist_km   10444.307509\n",
      "15       brand_label_encoded    9995.879024\n",
      "1   closest_bus_stop_dist_km    5086.884408\n",
      "18                       Q_3    2954.124709\n",
      "13         exclusive_area_m2    1289.887675\n",
      "17                       Q_2    1240.634246\n",
      "14                     floor     982.624388\n",
      "7                 park_score     740.436757\n",
      "20                   apt_age     309.770457\n",
      "5              station_score     305.983598\n",
      "10               total_score     263.079164\n",
      "9               school_score    -185.288084\n",
      "8             hospital_score    -250.679135\n",
      "6             bus_stop_score    -347.373972\n",
      "19                       Q_4    -705.261640\n",
      "16                       Q_1   -3489.497316\n",
      "3   closest_hospital_dist_km   -5855.836515\n",
      "4     closest_school_dist_km   -8218.372135\n",
      "0    closest_station_dist_km  -14014.411617\n",
      "11                  latitude -310762.508191\n"
     ]
    }
   ],
   "source": [
    "# 회귀 계수 출력\n",
    "coefficients = pd.DataFrame({\n",
    "    'Feature': X.columns,\n",
    "    'Coefficient': model.coef_\n",
    "}).sort_values(by='Coefficient', ascending=False)\n",
    "\n",
    "print(coefficients)\n"
   ]
  },
  {
   "cell_type": "markdown",
   "metadata": {},
   "source": [
    "### 개선시도"
   ]
  },
  {
   "cell_type": "code",
   "execution_count": 39,
   "metadata": {},
   "outputs": [
    {
     "name": "stdout",
     "output_type": "stream",
     "text": [
      "Random Forest - MSE: 788283564.01, R2 Score: 0.88\n",
      "Random Forest RMSE: 28076.39\n"
     ]
    }
   ],
   "source": [
    "# 데이터 스케일링\n",
    "scaler = StandardScaler()\n",
    "X_scaled = scaler.fit_transform(X)\n",
    "\n",
    "# 랜덤 포레스트 모델로 학습\n",
    "rf_model = RandomForestRegressor(n_estimators=100, random_state=42)\n",
    "rf_model.fit(X_train, y_train)\n",
    "\n",
    "# 예측 및 성능 평가\n",
    "y_pred_rf = rf_model.predict(X_test)\n",
    "mse_rf = mean_squared_error(y_test, y_pred_rf)\n",
    "r2_rf = r2_score(y_test, y_pred_rf)\n",
    "rmse_rf = np.sqrt(mse_rf)\n",
    "\n",
    "print(f\"Random Forest - MSE: {mse_rf:.2f}, R2 Score: {r2_rf:.2f}\")\n",
    "print(f\"Random Forest RMSE: {rmse_rf:.2f}\")"
   ]
  },
  {
   "cell_type": "markdown",
   "metadata": {},
   "source": [
    "### 다른 모델들"
   ]
  },
  {
   "cell_type": "code",
   "execution_count": 44,
   "metadata": {},
   "outputs": [
    {
     "name": "stdout",
     "output_type": "stream",
     "text": [
      "원본 데이터 크기: 251096\n",
      "샘플링된 데이터 크기: 15000\n",
      "\n",
      "년도별 샘플 수:\n",
      "year\n",
      "2019    3000\n",
      "2020    3000\n",
      "2021    3000\n",
      "2022    3000\n",
      "2023    3000\n",
      "Name: count, dtype: int64\n"
     ]
    }
   ],
   "source": [
    "# 년도별 샘플링\n",
    "def sample_by_year(df, sample_size=3000):\n",
    "    # 년도 추출 (연도 컬럼이 있다고 가정)\n",
    "    years = df['year'].unique()\n",
    "    \n",
    "    # 각 년도별로 샘플링\n",
    "    sampled_dfs = []\n",
    "    for year in years:\n",
    "        year_df = df[df['year'] == year]\n",
    "        sampled_df = year_df.sample(n=min(sample_size, len(year_df)), random_state=42)\n",
    "        sampled_dfs.append(sampled_df)\n",
    "    \n",
    "    # 샘플링된 데이터프레임 합치기\n",
    "    sampled_data = pd.concat(sampled_dfs, ignore_index=True)\n",
    "    \n",
    "    return sampled_data\n",
    "\n",
    "# 샘플링 적용\n",
    "sampled_apt_df = sample_by_year(selected_apt_df)\n",
    "\n",
    "# 샘플링 결과 확인\n",
    "print(\"원본 데이터 크기:\", len(selected_apt_df))\n",
    "print(\"샘플링된 데이터 크기:\", len(sampled_apt_df))\n",
    "\n",
    "# 각 년도별 샘플 수 확인\n",
    "print(\"\\n년도별 샘플 수:\")\n",
    "print(sampled_apt_df['year'].value_counts())\n",
    "\n",
    "# 이후 모델 훈련에 sampled_apt_df 사용\n",
    "X = sampled_apt_df.drop(['NO', 'adjusted_price'], axis=1)\n",
    "y = sampled_apt_df['adjusted_price']\n",
    "\n",
    "# 이전 코드와 동일하게 train_test_split, 모델 훈련 진행"
   ]
  },
  {
   "cell_type": "code",
   "execution_count": 45,
   "metadata": {},
   "outputs": [
    {
     "name": "stdout",
     "output_type": "stream",
     "text": [
      "KNN 모델:\n",
      "  MSE: 1977557599.23\n",
      "  RMSE: 44469.74\n",
      "  R2 Score: 0.70\n",
      "\n",
      "Ridge 모델:\n",
      "  MSE: 2738217496.15\n",
      "  RMSE: 52327.98\n",
      "  R2 Score: 0.59\n",
      "\n",
      "Lasso 모델:\n",
      "  MSE: 2735159123.43\n",
      "  RMSE: 52298.75\n",
      "  R2 Score: 0.59\n",
      "\n",
      "DecisionTree 모델:\n",
      "  MSE: 1570751263.07\n",
      "  RMSE: 39632.70\n",
      "  R2 Score: 0.76\n",
      "\n",
      "RandomForest 모델:\n",
      "  MSE: 713418883.01\n",
      "  RMSE: 26709.90\n",
      "  R2 Score: 0.89\n",
      "\n",
      "GradientBoosting 모델:\n",
      "  MSE: 1096338843.31\n",
      "  RMSE: 33111.01\n",
      "  R2 Score: 0.84\n",
      "\n",
      "SVM 모델:\n",
      "  MSE: 7007868118.54\n",
      "  RMSE: 83713.01\n",
      "  R2 Score: -0.05\n",
      "\n",
      "XGBoost 모델:\n",
      "  MSE: 698529289.96\n",
      "  RMSE: 26429.70\n",
      "  R2 Score: 0.89\n",
      "\n"
     ]
    }
   ],
   "source": [
    "# 1. 샘플링 코드 먼저 실행\n",
    "sampled_apt_df = sample_by_year(selected_apt_df)\n",
    "\n",
    "# 2. 이어서 모델 훈련 코드 실행 (그대로 사용)\n",
    "X = sampled_apt_df.drop(['NO', 'adjusted_price'], axis=1)\n",
    "y = sampled_apt_df['adjusted_price']\n",
    "\n",
    "# (이후 코드는 이전에 제공한 모델 훈련 코드와 동일)\n",
    "# 데이터 분할\n",
    "X_train, X_test, y_train, y_test = train_test_split(X, y, test_size=0.2, random_state=42)\n",
    "\n",
    "# MinMaxScaler로 스케일링\n",
    "scaler = MinMaxScaler()\n",
    "X_train_scaled = scaler.fit_transform(X_train)\n",
    "X_test_scaled = scaler.transform(X_test)\n",
    "\n",
    "# 모델 딕셔너리 생성\n",
    "models = {\n",
    "    'KNN': KNeighborsRegressor(),\n",
    "    'Ridge': Ridge(),\n",
    "    'Lasso': Lasso(),\n",
    "    'DecisionTree': DecisionTreeRegressor(random_state=42),\n",
    "    'RandomForest': RandomForestRegressor(random_state=42),\n",
    "    'GradientBoosting': GradientBoostingRegressor(random_state=42),\n",
    "    'SVM': SVR(),\n",
    "}\n",
    "\n",
    "# XGBoost 모델 추가 (xgboost 설치 필요)\n",
    "try:\n",
    "    models['XGBoost'] = xgb.XGBRegressor(random_state=42)\n",
    "except:\n",
    "    print(\"XGBoost 모델을 추가하지 못했습니다. xgboost 라이브러리를 설치해주세요.\")\n",
    "\n",
    "# 결과 저장할 딕셔너리\n",
    "results = {}\n",
    "\n",
    "# 모델별 학습 및 평가\n",
    "for name, model in models.items():\n",
    "    # 모델 학습\n",
    "    model.fit(X_train_scaled, y_train)\n",
    "    \n",
    "    # 예측\n",
    "    y_pred = model.predict(X_test_scaled)\n",
    "    \n",
    "    # 평가 지표 계산\n",
    "    mse = mean_squared_error(y_test, y_pred)\n",
    "    rmse = np.sqrt(mse)\n",
    "    r2 = r2_score(y_test, y_pred)\n",
    "    \n",
    "    # 결과 저장\n",
    "    results[name] = {\n",
    "        'MSE': mse,\n",
    "        'RMSE': rmse,\n",
    "        'R2 Score': r2\n",
    "    }\n",
    "\n",
    "# 결과 출력\n",
    "for name, metrics in results.items():\n",
    "    print(f\"{name} 모델:\")\n",
    "    for metric, value in metrics.items():\n",
    "        print(f\"  {metric}: {value:.2f}\")\n",
    "    print()"
   ]
  },
  {
   "cell_type": "code",
   "execution_count": null,
   "metadata": {},
   "outputs": [],
   "source": []
  }
 ],
 "metadata": {
  "kernelspec": {
   "display_name": "myenv",
   "language": "python",
   "name": "python3"
  },
  "language_info": {
   "codemirror_mode": {
    "name": "ipython",
    "version": 3
   },
   "file_extension": ".py",
   "mimetype": "text/x-python",
   "name": "python",
   "nbconvert_exporter": "python",
   "pygments_lexer": "ipython3",
   "version": "3.9.20"
  }
 },
 "nbformat": 4,
 "nbformat_minor": 2
}
