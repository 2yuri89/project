{
 "cells": [
  {
   "cell_type": "code",
   "execution_count": 1,
   "metadata": {},
   "outputs": [],
   "source": [
    "import pandas as pd\n",
    "import numpy as np\n",
    "import matplotlib.pyplot as plt\n",
    "import seaborn as sns\n",
    "\n",
    "# 맷플롯립 한글 사용 가능\n",
    "import matplotlib.pyplot as plt\n",
    "plt.rcParams['font.family'] ='Malgun Gothic'\n",
    "plt.rcParams['axes.unicode_minus'] =False\n",
    "\n",
    "# 선택\n",
    "import geopandas as gpd\n",
    "from shapely.geometry import Point\n",
    "import requests\n",
    "import time\n",
    "from geopy.geocoders import Nominatim"
   ]
  },
  {
   "cell_type": "code",
   "execution_count": 9,
   "metadata": {},
   "outputs": [
    {
     "data": {
      "text/html": [
       "<div>\n",
       "<style scoped>\n",
       "    .dataframe tbody tr th:only-of-type {\n",
       "        vertical-align: middle;\n",
       "    }\n",
       "\n",
       "    .dataframe tbody tr th {\n",
       "        vertical-align: top;\n",
       "    }\n",
       "\n",
       "    .dataframe thead th {\n",
       "        text-align: right;\n",
       "    }\n",
       "</style>\n",
       "<table border=\"1\" class=\"dataframe\">\n",
       "  <thead>\n",
       "    <tr style=\"text-align: right;\">\n",
       "      <th></th>\n",
       "      <th>NO</th>\n",
       "      <th>기존주소</th>\n",
       "      <th>도로명주소</th>\n",
       "    </tr>\n",
       "  </thead>\n",
       "  <tbody>\n",
       "    <tr>\n",
       "      <th>0</th>\n",
       "      <td>1</td>\n",
       "      <td>서울특별시 성동구 옥수동 528-1</td>\n",
       "      <td>서울특별시 성동구 매봉길 50</td>\n",
       "    </tr>\n",
       "    <tr>\n",
       "      <th>1</th>\n",
       "      <td>2</td>\n",
       "      <td>서울특별시 성북구 돈암동 642</td>\n",
       "      <td>서울특별시 성북구 아리랑로5길 92</td>\n",
       "    </tr>\n",
       "    <tr>\n",
       "      <th>2</th>\n",
       "      <td>3</td>\n",
       "      <td>서울특별시 동대문구 회기동 346-18</td>\n",
       "      <td>서울특별시 동대문구 이문로 37</td>\n",
       "    </tr>\n",
       "    <tr>\n",
       "      <th>3</th>\n",
       "      <td>4</td>\n",
       "      <td>서울특별시 중랑구 묵동 174-9</td>\n",
       "      <td>서울특별시 중랑구 공릉로4길 4</td>\n",
       "    </tr>\n",
       "    <tr>\n",
       "      <th>4</th>\n",
       "      <td>5</td>\n",
       "      <td>서울특별시 중랑구 묵동 396</td>\n",
       "      <td>서울특별시 중랑구 숙선옹주로 45</td>\n",
       "    </tr>\n",
       "    <tr>\n",
       "      <th>...</th>\n",
       "      <td>...</td>\n",
       "      <td>...</td>\n",
       "      <td>...</td>\n",
       "    </tr>\n",
       "    <tr>\n",
       "      <th>84130</th>\n",
       "      <td>84131</td>\n",
       "      <td>서울특별시 관악구 봉천동 179-58</td>\n",
       "      <td>서울특별시 관악구 남부순환로248길 56</td>\n",
       "    </tr>\n",
       "    <tr>\n",
       "      <th>84131</th>\n",
       "      <td>84132</td>\n",
       "      <td>서울특별시 금천구 시흥동 384-12</td>\n",
       "      <td>서울특별시 금천구 독산로10길 96</td>\n",
       "    </tr>\n",
       "    <tr>\n",
       "      <th>84132</th>\n",
       "      <td>84133</td>\n",
       "      <td>서울특별시 관악구 신림동 746-43</td>\n",
       "      <td>서울특별시 관악구 문성로 74</td>\n",
       "    </tr>\n",
       "    <tr>\n",
       "      <th>84133</th>\n",
       "      <td>84134</td>\n",
       "      <td>서울특별시 구로구 고척동 327</td>\n",
       "      <td>서울특별시 구로구 중앙로6길 17</td>\n",
       "    </tr>\n",
       "    <tr>\n",
       "      <th>84134</th>\n",
       "      <td>84135</td>\n",
       "      <td>서울특별시 구로구 천왕동 281</td>\n",
       "      <td>서울특별시 구로구 오리로 1102-10</td>\n",
       "    </tr>\n",
       "  </tbody>\n",
       "</table>\n",
       "<p>84135 rows × 3 columns</p>\n",
       "</div>"
      ],
      "text/plain": [
       "          NO                   기존주소                   도로명주소\n",
       "0          1    서울특별시 성동구 옥수동 528-1        서울특별시 성동구 매봉길 50\n",
       "1          2      서울특별시 성북구 돈암동 642     서울특별시 성북구 아리랑로5길 92\n",
       "2          3  서울특별시 동대문구 회기동 346-18       서울특별시 동대문구 이문로 37\n",
       "3          4     서울특별시 중랑구 묵동 174-9       서울특별시 중랑구 공릉로4길 4\n",
       "4          5       서울특별시 중랑구 묵동 396      서울특별시 중랑구 숙선옹주로 45\n",
       "...      ...                    ...                     ...\n",
       "84130  84131   서울특별시 관악구 봉천동 179-58  서울특별시 관악구 남부순환로248길 56\n",
       "84131  84132   서울특별시 금천구 시흥동 384-12     서울특별시 금천구 독산로10길 96\n",
       "84132  84133   서울특별시 관악구 신림동 746-43        서울특별시 관악구 문성로 74\n",
       "84133  84134      서울특별시 구로구 고척동 327      서울특별시 구로구 중앙로6길 17\n",
       "84134  84135      서울특별시 구로구 천왕동 281   서울특별시 구로구 오리로 1102-10\n",
       "\n",
       "[84135 rows x 3 columns]"
      ]
     },
     "execution_count": 9,
     "metadata": {},
     "output_type": "execute_result"
    }
   ],
   "source": [
    "add_2020 = pd.read_csv('Data_Preprocessing/add_2020.csv', encoding='utf-8')\n",
    "add_2020"
   ]
  },
  {
   "cell_type": "code",
   "execution_count": 10,
   "metadata": {},
   "outputs": [
    {
     "name": "stdout",
     "output_type": "stream",
     "text": [
      "          NO                   기존주소                  도로명주소\n",
      "0          1    서울특별시 성동구 옥수동 528-1       서울특별시 성동구 매봉길 50\n",
      "1          2      서울특별시 성북구 돈암동 642    서울특별시 성북구 아리랑로5길 92\n",
      "2          3  서울특별시 동대문구 회기동 346-18      서울특별시 동대문구 이문로 37\n",
      "3          4     서울특별시 중랑구 묵동 174-9      서울특별시 중랑구 공릉로4길 4\n",
      "4          5       서울특별시 중랑구 묵동 396     서울특별시 중랑구 숙선옹주로 45\n",
      "...      ...                    ...                    ...\n",
      "54694  54695       서울특별시 동작구 흑석동 10      서울특별시 동작구 현충로 119\n",
      "54695  54696       서울특별시 동작구 흑석동 28      서울특별시 동작구 현충로 151\n",
      "54696  54697      서울특별시 동작구 흑석동 336     서울특별시 동작구 흑석한강로 27\n",
      "54697  54698   서울특별시 구로구 구로동 716-17  서울특별시 구로구 구로동로15길 1-6\n",
      "54698  54699  서울특별시 구로구 구로동 685-223     서울특별시 구로구 구일로4길 22\n",
      "\n",
      "[54699 rows x 3 columns]\n"
     ]
    }
   ],
   "source": [
    "# NO가 54700보다 작은 데이터만 필터링\n",
    "add_2020 = add_2020[add_2020['NO'] < 54700]\n",
    "\n",
    "# 결과 확인\n",
    "print(add_2020)\n"
   ]
  },
  {
   "cell_type": "code",
   "execution_count": 11,
   "metadata": {},
   "outputs": [],
   "source": [
    "add_2020.to_csv('Data_Preprocessing/add_2020.csv', index=False, encoding='utf-8')"
   ]
  },
  {
   "cell_type": "code",
   "execution_count": null,
   "metadata": {},
   "outputs": [],
   "source": []
  }
 ],
 "metadata": {
  "kernelspec": {
   "display_name": "myenv",
   "language": "python",
   "name": "python3"
  },
  "language_info": {
   "codemirror_mode": {
    "name": "ipython",
    "version": 3
   },
   "file_extension": ".py",
   "mimetype": "text/x-python",
   "name": "python",
   "nbconvert_exporter": "python",
   "pygments_lexer": "ipython3",
   "version": "3.9.20"
  }
 },
 "nbformat": 4,
 "nbformat_minor": 2
}
