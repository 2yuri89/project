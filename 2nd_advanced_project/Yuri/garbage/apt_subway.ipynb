{
 "cells": [
  {
   "cell_type": "code",
   "execution_count": 2,
   "metadata": {},
   "outputs": [],
   "source": [
    "import pandas as pd\n",
    "import numpy as np\n",
    "import matplotlib.pyplot as plt\n",
    "import seaborn as sns\n",
    "\n",
    "# 맷플롯립 한글 사용 가능\n",
    "import matplotlib.pyplot as plt\n",
    "plt.rcParams['font.family'] ='Malgun Gothic'\n",
    "plt.rcParams['axes.unicode_minus'] =False\n",
    "\n",
    "# 선택\n",
    "import geopandas as gpd\n",
    "from shapely.geometry import Point\n",
    "import requests\n",
    "import time\n",
    "from geopy.geocoders import Nominatim\n",
    "from scipy.spatial import cKDTree"
   ]
  },
  {
   "cell_type": "code",
   "execution_count": null,
   "metadata": {},
   "outputs": [],
   "source": [
    "station_l_and_l = pd.read_csv('../4.Public_transportation/subway_latitude_and_longitude.csv', encoding='cp949')\n",
    "station_2019 = pd.read_csv('forDP/station_list_2019.csv')\n",
    "station_2020 = pd.read_csv('forDP/station_list_2020.csv')\n",
    "station_2021 = pd.read_csv('forDP/station_list_2021.csv')\n",
    "station_2022 = pd.read_csv('forDP/station_list_2022.csv')\n",
    "station_2023 = pd.read_csv('forDP/station_list_2023.csv')"
   ]
  },
  {
   "cell_type": "code",
   "execution_count": 7,
   "metadata": {},
   "outputs": [
    {
     "name": "stdout",
     "output_type": "stream",
     "text": [
      "<class 'pandas.core.frame.DataFrame'>\n",
      "RangeIndex: 788 entries, 0 to 787\n",
      "Data columns (total 5 columns):\n",
      " #   Column     Non-Null Count  Dtype  \n",
      "---  ------     --------------  -----  \n",
      " 0   ID         788 non-null    int64  \n",
      " 1   name       788 non-null    object \n",
      " 2   line       788 non-null    object \n",
      " 3   latitude   788 non-null    float64\n",
      " 4   longitude  788 non-null    float64\n",
      "dtypes: float64(2), int64(1), object(2)\n",
      "memory usage: 30.9+ KB\n",
      "<class 'pandas.core.frame.DataFrame'>\n",
      "RangeIndex: 597 entries, 0 to 596\n",
      "Data columns (total 2 columns):\n",
      " #   Column  Non-Null Count  Dtype \n",
      "---  ------  --------------  ----- \n",
      " 0   line    597 non-null    object\n",
      " 1   name    597 non-null    object\n",
      "dtypes: object(2)\n",
      "memory usage: 9.5+ KB\n"
     ]
    }
   ],
   "source": [
    "station_l_and_l.info()\n",
    "station_2019.info()"
   ]
  },
  {
   "cell_type": "code",
   "execution_count": 8,
   "metadata": {},
   "outputs": [],
   "source": [
    "station_l_and_l = station_l_and_l[['name', 'line', 'latitude', 'longitude']]"
   ]
  },
  {
   "cell_type": "code",
   "execution_count": null,
   "metadata": {},
   "outputs": [],
   "source": [
    "station_with_ll_2019 = pd.merge(station_l_and_l, station_2019, how='inner', on=['line', 'name'])\n",
    "station_with_ll_2020 = pd.merge(station_l_and_l, station_2020, how='inner', on=['line', 'name'])\n",
    "station_with_ll_2021 = pd.merge(station_l_and_l, station_2021, how='inner', on=['line', 'name'])\n",
    "station_with_ll_2022 = pd.merge(station_l_and_l, station_2022, how='inner', on=['line', 'name'])\n",
    "station_with_ll_2023 = pd.merge(station_l_and_l, station_2023, how='inner', on=['line', 'name'])"
   ]
  },
  {
   "cell_type": "code",
   "execution_count": null,
   "metadata": {},
   "outputs": [
    {
     "data": {
      "text/plain": [
       "(542, 550, 549, 559, 563)"
      ]
     },
     "execution_count": 11,
     "metadata": {},
     "output_type": "execute_result"
    }
   ],
   "source": [
    "len(station_with_ll_2019), \\\n",
    "len(station_with_ll_2020), \\\n",
    "len(station_with_ll_2021), \\\n",
    "len(station_with_ll_2022), \\\n",
    "len(station_with_ll_2023)"
   ]
  },
  {
   "cell_type": "code",
   "execution_count": null,
   "metadata": {},
   "outputs": [],
   "source": [
    "station_with_ll_2023.to_csv('forDP/station_with_ll_2023.csv', index=False, encoding='utf-8')\n",
    "station_with_ll_2022.to_csv('forDP/station_with_ll_2022.csv', index=False, encoding='utf-8')\n",
    "station_with_ll_2021.to_csv('forDP/station_with_ll_2021.csv', index=False, encoding='utf-8')\n",
    "station_with_ll_2020.to_csv('forDP/station_with_ll_2020.csv', index=False, encoding='utf-8')\n",
    "station_with_ll_2019.to_csv('forDP/station_with_ll_2019.csv', index=False, encoding='utf-8')"
   ]
  }
 ],
 "metadata": {
  "kernelspec": {
   "display_name": "myenv",
   "language": "python",
   "name": "python3"
  },
  "language_info": {
   "codemirror_mode": {
    "name": "ipython",
    "version": 3
   },
   "file_extension": ".py",
   "mimetype": "text/x-python",
   "name": "python",
   "nbconvert_exporter": "python",
   "pygments_lexer": "ipython3",
   "version": "3.9.20"
  }
 },
 "nbformat": 4,
 "nbformat_minor": 2
}
